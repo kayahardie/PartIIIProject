{
  "nbformat": 4,
  "nbformat_minor": 0,
  "metadata": {
    "colab": {
      "provenance": [],
      "authorship_tag": "ABX9TyPVgo3dI7s87pp5RokLXiuy",
      "include_colab_link": true
    },
    "kernelspec": {
      "name": "python3",
      "display_name": "Python 3"
    },
    "language_info": {
      "name": "python"
    }
  },
  "cells": [
    {
      "cell_type": "markdown",
      "metadata": {
        "id": "view-in-github",
        "colab_type": "text"
      },
      "source": [
        "<a href=\"https://colab.research.google.com/github/kayahardie/PartIIIProject/blob/main/Submit_2_CHAIN_VOLUME_FRACT.ipynb\" target=\"_parent\"><img src=\"https://colab.research.google.com/assets/colab-badge.svg\" alt=\"Open In Colab\"/></a>"
      ]
    },
    {
      "cell_type": "code",
      "execution_count": null,
      "metadata": {
        "id": "lWm3Cdx4HgKd",
        "colab": {
          "base_uri": "https://localhost:8080/"
        },
        "outputId": "c8d51f2d-49df-4a8a-d76b-acf48413bee2"
      },
      "outputs": [
        {
          "output_type": "stream",
          "name": "stdout",
          "text": [
            "Mounted at /content/drive\n"
          ]
        }
      ],
      "source": [
        "from google.colab import drive\n",
        "drive.mount('/content/drive')"
      ]
    },
    {
      "cell_type": "code",
      "source": [
        "%matplotlib inline\n",
        "import numpy as np\n",
        "import scipy as sp\n",
        "import os\n",
        "import matplotlib.pyplot as plt\n",
        "from scipy.spatial.distance import cdist\n",
        "import statistics\n",
        "import ast\n",
        "from scipy.stats import spearmanr"
      ],
      "metadata": {
        "id": "_oWCN6g3Hivk"
      },
      "execution_count": null,
      "outputs": []
    },
    {
      "cell_type": "code",
      "source": [
        "sequences_1 = {'1': 'SSGSGRSGFGSFNGSNGGFGFGSNGGGSXYYXGGGSGNRSNGNGNYQRXGRGXGSXGFXGXGGSSGGGGGSSRGGSRSXFGGGSNGYGNFFNKSFXGGSQQGYGGGGSGGGKGGFNNFFRGQNRRGYSYNRG', '2': 'SGYNGGKSFSFFGNGGGRYGQGSFSXFGGGNGFSFGGGRGNGGGXKGNGYGXSQNSGRQGGSGSGGSGXGGFXGFYYGRNSSSXNGRRGSQGGRGGGSSGFYGGGRSSGNNSSGNFYNSNGXXRGNRGGXFG', '3': 'GNFSGRNSKGGXFNSGXFGXKXGSSRGRGGRYSGRGGXRYYYGGGGQGXGGFGGSFQXNRNFGGSGGSFRGQGNFSGSGSGSGSNQGSNXNFSXYGFGNNSRSSGGRGGNFFGGGGGYNYSSGGGGNGGGGS', '4': 'GFSSXSNYGGYNGKYSFKGGSXSGGGYXGGXGGGGQNGGGNGQFGGGSRGFXRGSRSFGSGSGGNSGNNGQSGRSNSGXGRFNSNSYGSXQRFYNGGXSGSXGGSGRGFGNGGGGGRFGGFNGGSRYFFGNR', '5': 'NFXSQGXGRNFGGSXSSGSNGGYSGGGXGGGSGYFGNGSRGNYNFGSGXRGNSFGRFRNSGGQGFGRKGSSGGGGYYQRNGGGSSGSRRSNSNRGGGFNSSGGGSNXGKFGYXXXYGFSGGNFGGQGFGGGG', '6': 'RGNSFNSGFSQXGRNYRFXGGSSFGNGRYGGNGNFGNGSSNXNSYRXGSSSSGFYGGGGGQGNFGRGRRXNGNRGYSXGGGQXGGGXGGGGSGSGFGFGGGGSSSNGGFYGGXGGRFKNGFSGQYGSGSKGS'}\n",
        "sequences_2 = {'1': 'QSSSGNGFGGSGNGSYNFKGYFGSFGGGXKGRNXSGSGNXNXGRGGGRGGGGYGRFNFGGGSGQNYXRGRFGSSGGQRFGSSGGNFGGSYRGNFSNXSGSSRNNGGGFNQGGGYGXGGFGGSGRYGSGXXSSSSSSSS', '2': 'KGNFSGNNQSNYGFGXGSYGXSGRNGSGXRSSFGSYGGGYRFGRXKGRSGSSNFGGGGSSSNYGGGYFGRQRGGGGFGGSNXGSRGSGGGGGGGGRNXGGGFGSXXGQNQGGNFFGFGSSGNNXSYSRNFGG', '3': 'XSGRGGNFGGSGRFGFGGGYGGGGGSSYNNNXRGGRQRNXNXSGYGGGGQQSNQGRXXGRGGGGGXGGGGNFXKGRFGSGKGGSYGSSSNGSSGYFXRGNSYGGGGNYGFSSSSNFNGFGNFSRFGFGSSGS', '4': 'QSGSGGNYSGGYNFGGYGXXKGYFNXGGGXNFRFNXNXFGGRGFSNFGGGGFGGGRNFGRGRGQGRSYSGFGNQGSXRSSSGQRSYGGGGGGYGXSGSGSSSNFGGGGSSNNFGXKGNSGGGSSSRRGNGGG', '5': 'FGGGGYSYGFSSGRXRGGSGSSNGFGGSSRNFGGRGGRGFGGQRSGNFRFSGGGGXSYYFNNGGFGGGGQNXGGGGGGGNFGYGNXNXSGGGNYNFGSXXYGQSGGGSSNXKKGNFXSNQGSGRGRGRSSSS', '6': 'GRSSNFXRGSNFGSRFNNGGGGNYGRGGGGSGGFQRGGGSYGNXGRSSGYSSGGSSNFRGSGGQGXGGFGSNYGGNYFNGFGGGNQGGGRGSQSKGSYGRGGSRSGNXGFXKXSFGFGGGNXSGNFGGSYXX'}\n",
        "sequences_11 = {'1': 'KGGNFGGRSSGXSSSQRGRSGSYNNQSSNFGXXGGGGSYNXFGNGNFGGGRGGGFXRNQGGYGGSSFSGRGGFGGSRGSGGGGQYFXKSSSSYGSGRRFGGNXNFGRGGNGGGGYGGSGXGYNGFGNXGSNF', '2': 'SSSSYGSGRRFGNFGGGRGGGFXSSSQRGRSGSXRNQGGYGGSSGGNXNFGRGGNGGGGSYNXFGNGSGGGGQYFXKYNGFGNXGSNFGGGGYGGSGXGFSGRGGFGGSRKGGNFGGRSSGYNNQSSNFGXX', '3': 'YNGFGNXGSNFXRNQGGYGGSSGSGGGGQYFXKGGGGSYNXFGNFSGRGGFGGSRSSSSYGSGRRFGNFGGGRGGGFGGGGYGGSGXGYNNQSSNFGXXGGNXNFGRGGNXSSSQRGRSGSKGGNFGGRSSG', '4': 'GNFGGGRGGGFYNGFGNXGSNFFSGRGGFGGSRGGGGSYNXFGNXSSSQRGRSGSGGNXNFGRGGNKGGNFGGRSSGXRNQGGYGGSSGSGGGGQYFXKSSSSYGSGRRFYNNQSSNFGXXGGGGYGGSGXG', '5': 'GSGGGGQYFXKFSGRGGFGGSRXSSSQRGRSGSKGGNFGGRSSGYNGFGNXGSNFSSSSYGSGRRFYNNQSSNFGXXXRNQGGYGGSSGGNXNFGRGGNGGGGYGGSGXGGGGGSYNXFGNGNFGGGRGGGF', '6': 'YNNQSSNFGXXGGGGSYNXFGNFSGRGGFGGSRSSSSYGSGRRFGNFGGGRGGGFKGGNFGGRSSGGSGGGGQYFXKGGGGYGGSGXGYNGFGNXGSNFXSSSQRGRSGSXRNQGGYGGSSGGNXNFGRGGN'}\n",
        "sequences_33 = {'1': 'GSGGGGQYFXKXRNQGGYGGSSSSSSYGSGRRFFSGRGGFGGSRGGGGYGGSGXGYNGFGNXGSNFXSSSQRGRSGSGNFGGGRGGGFGGNXNFGRGGNGGGGSYNXFGNYNNQSSNFGXXKGGNFGGRSSG', '2': 'FSGRGGFGGSRGGGGYGGSGXGYNGFGNXGSNFXSSSQRGRSGSGNFGGGRGGGFGGNXNFGRGGNGSGGGGQYFXKXRNQGGYGGSSSSSSYGSGRRFGGGGSYNXFGNYNNQSSNFGXXKGGNFGGRSSG', '3': 'GGGGSYNXFGNYNNQSSNFGXXKGGNFGGRSSGGSGGGGQYFXKXRNQGGYGGSSSSSSYGSGRRFXSSSQRGRSGSGNFGGGRGGGFGGNXNFGRGGNFSGRGGFGGSRGGGGYGGSGXGYNGFGNXGSNF', '4': 'XSSSQRGRSGSGNFGGGRGGGFGGNXNFGRGGNGGGGSYNXFGNYNNQSSNFGXXKGGNFGGRSSGFSGRGGFGGSRGGGGYGGSGXGYNGFGNXGSNFGSGGGGQYFXKXRNQGGYGGSSSSSSYGSGRRF', '5': 'XSSSQRGRSGSGNFGGGRGGGFGGNXNFGRGGNGSGGGGQYFXKXRNQGGYGGSSSSSSYGSGRRFFSGRGGFGGSRGGGGYGGSGXGYNGFGNXGSNFGGGGSYNXFGNYNNQSSNFGXXKGGNFGGRSSG', '6': 'GGGGSYNXFGNYNNQSSNFGXXKGGNFGGRSSGFSGRGGFGGSRGGGGYGGSGXGYNGFGNXGSNFGSGGGGQYFXKXRNQGGYGGSSSSSSYGSGRRFXSSSQRGRSGSGNFGGGRGGGFGGNXNFGRGGN'}\n",
        "\n",
        "sequences_66 = {'1': 'GGGGSYNXFGNYNNQSSNFGXXKGGNFGGRSSGGSGGGGQYFXKXRNQGGYGGSSSSSSYGSGRRFXSSSQRGRSGSGNFGGGRGGGFGGNXNFGRGGNFSGRGGFGGSRGGGGYGGSGXGYNGFGNXGSNF'}\n",
        "sequences_OG = {'1': 'XSSSQRGRSGSGNFGGGRGGGFGGNXNFGRGGNFSGRGGFGGSRGGGGYGGSGXGYNGFGNXGSNFGGGGSYNXFGNYNNQSSNFGXXKGGNFGGRSSGGSGGGGQYFXKXRNQGGYGGSSSSSSYGSGRRF'}"
      ],
      "metadata": {
        "id": "f9snHlfUPCY9"
      },
      "execution_count": null,
      "outputs": []
    },
    {
      "cell_type": "code",
      "source": [
        "positions_dict_1 = {}\n",
        "positions_dict_2 = {}\n",
        "positions_dict_11 = {}\n",
        "positions_dict_33 = {}\n",
        "positions_dict_66 = {}\n",
        "positions_dict_OG = {}\n",
        "\n",
        "\n",
        "for key, value in sequences_OG.items():\n",
        "\n",
        "    positions = [i for i, char in enumerate(value) if char in ('Y', 'F', 'W')]\n",
        "\n",
        "\n",
        "    positions_dict_OG[key] = positions\n",
        "\n",
        "\n",
        "print(positions_dict_OG)\n",
        "\n",
        "for key, value in sequences_66.items():\n",
        "\n",
        "    positions = [i for i, char in enumerate(value) if char in ('Y', 'F', 'W')]\n",
        "\n",
        "\n",
        "    positions_dict_66[key] = positions\n",
        "\n",
        "print(positions_dict_66)\n",
        "\n",
        "for key, value in sequences_1.items():\n",
        "\n",
        "    positions = [i for i, char in enumerate(value) if char in ('Y', 'F', 'W')]\n",
        "\n",
        "\n",
        "    positions_dict_1[key] = positions\n",
        "\n",
        "\n",
        "print(positions_dict_1)\n",
        "\n",
        "for key, value in sequences_2.items():\n",
        "\n",
        "    positions = [i for i, char in enumerate(value) if char in ('Y', 'F', 'W')]\n",
        "\n",
        "\n",
        "    positions_dict_2[key] = positions\n",
        "\n",
        "\n",
        "print(positions_dict_2)\n",
        "\n",
        "for key, value in sequences_11.items():\n",
        "    positions = [i for i, char in enumerate(value) if char in ('Y', 'F', 'W')]\n",
        "\n",
        "\n",
        "    positions_dict_11[key] = positions\n",
        "\n",
        "print(positions_dict_11)\n",
        "\n",
        "for key, value in sequences_33.items():\n",
        "\n",
        "    positions = [i for i, char in enumerate(value) if char in ('Y', 'F', 'W')]\n",
        "\n",
        "    positions_dict_33[key] = positions\n",
        "\n",
        "print(positions_dict_33)"
      ],
      "metadata": {
        "colab": {
          "base_uri": "https://localhost:8080/"
        },
        "id": "3rHqm-cGSqD7",
        "outputId": "6bacbf66-a7a5-414e-e874-83a7c770d698"
      },
      "execution_count": null,
      "outputs": [
        {
          "output_type": "stream",
          "name": "stdout",
          "text": [
            "{'1': [13, 21, 27, 33, 39, 48, 55, 58, 65, 71, 74, 77, 84, 92, 106, 107, 116, 125, 131]}\n",
            "{'1': [5, 8, 11, 18, 26, 40, 41, 50, 59, 65, 79, 87, 93, 99, 105, 114, 121, 124, 131]}\n",
            "{'1': [8, 11, 18, 20, 29, 30, 45, 57, 79, 86, 89, 90, 94, 102, 114, 117, 118, 126, 128], '2': [2, 8, 10, 11, 18, 23, 26, 32, 34, 49, 71, 74, 75, 76, 100, 101, 115, 116, 130], '3': [2, 12, 17, 31, 39, 40, 41, 51, 55, 61, 68, 74, 91, 94, 96, 110, 111, 117, 119], '4': [1, 7, 10, 14, 16, 26, 43, 50, 57, 81, 86, 92, 93, 108, 117, 120, 126, 127, 128], '5': [1, 10, 22, 33, 34, 42, 44, 53, 56, 64, 75, 76, 97, 109, 111, 115, 117, 122, 127], '6': [4, 8, 15, 17, 23, 28, 34, 44, 53, 54, 63, 75, 95, 97, 108, 109, 116, 120, 124]}\n",
            "{'1': [7, 15, 17, 20, 21, 24, 52, 55, 57, 65, 70, 78, 85, 89, 93, 107, 113, 118, 124], '2': [3, 11, 13, 18, 32, 35, 39, 41, 53, 62, 66, 67, 76, 101, 113, 114, 116, 125, 129], '3': [7, 13, 15, 19, 27, 44, 71, 76, 84, 94, 95, 101, 107, 109, 115, 118, 121, 124, 126], '4': [7, 11, 13, 16, 22, 23, 31, 33, 38, 43, 46, 51, 57, 67, 70, 85, 92, 103, 112], '5': [0, 5, 7, 9, 24, 31, 39, 47, 49, 57, 58, 59, 64, 80, 82, 93, 95, 100, 115], '6': [5, 11, 15, 23, 33, 40, 49, 57, 68, 72, 76, 77, 80, 97, 109, 114, 116, 125, 129]}\n",
            "{'1': [4, 22, 29, 38, 41, 46, 54, 61, 66, 72, 84, 85, 92, 98, 104, 114, 121, 124, 131], '2': [4, 10, 13, 21, 39, 49, 60, 63, 73, 74, 77, 80, 87, 92, 99, 105, 114, 121, 128], '3': [0, 3, 10, 17, 29, 30, 38, 41, 44, 50, 59, 65, 68, 76, 81, 88, 95, 104, 125], '4': [2, 10, 11, 14, 21, 22, 28, 38, 41, 60, 70, 83, 95, 96, 103, 109, 110, 117, 125], '5': [7, 8, 11, 17, 37, 44, 47, 54, 59, 65, 66, 73, 83, 93, 103, 115, 118, 123, 131], '6': [0, 7, 16, 19, 22, 28, 37, 43, 46, 54, 59, 73, 74, 81, 88, 91, 98, 116, 126]}\n",
            "{'1': [7, 8, 17, 26, 32, 33, 39, 48, 55, 58, 65, 79, 87, 93, 104, 107, 110, 117, 125], '2': [0, 6, 15, 22, 25, 32, 46, 54, 60, 73, 74, 83, 92, 98, 104, 107, 110, 117, 125], '3': [5, 8, 11, 18, 26, 40, 41, 50, 59, 65, 79, 87, 93, 99, 105, 114, 121, 124, 131], '4': [13, 21, 27, 38, 41, 44, 51, 59, 66, 72, 81, 88, 91, 98, 106, 107, 116, 125, 131], '5': [13, 21, 27, 40, 41, 50, 59, 65, 66, 72, 81, 88, 91, 98, 104, 107, 110, 117, 125], '6': [5, 8, 11, 18, 26, 33, 39, 48, 55, 58, 65, 73, 74, 83, 92, 98, 112, 120, 126]}\n"
          ]
        }
      ]
    },
    {
      "cell_type": "code",
      "source": [
        "seqs = {'OG': {'1': [13, 21, 27, 33, 39, 48, 55, 58, 65, 71, 74, 77, 84, 92, 106, 107, 116, 125, 131]}, '66': {'1': [5, 8, 11, 18, 26, 40, 41, 50, 59, 65, 79, 87, 93, 99, 105, 114, 121, 124, 131]}, '1': {'1': [8, 11, 18, 20, 29, 30, 45, 57, 79, 86, 89, 90, 94, 102, 114, 117, 118, 126, 128], '2': [2, 8, 10, 11, 18, 23, 26, 32, 34, 49, 71, 74, 75, 76, 100, 101, 115, 116, 130], '3': [2, 12, 17, 31, 39, 40, 41, 51, 55, 61, 68, 74, 91, 94, 96, 110, 111, 117, 119], '4': [1, 7, 10, 14, 16, 26, 43, 50, 57, 81, 86, 92, 93, 108, 117, 120, 126, 127, 128], '5': [1, 10, 22, 33, 34, 42, 44, 53, 56, 64, 75, 76, 97, 109, 111, 115, 117, 122, 127], '6': [4, 8, 15, 17, 23, 28, 34, 44, 53, 54, 63, 75, 95, 97, 108, 109, 116, 120, 124]}, '2': {'1': [7, 15, 17, 20, 21, 24, 52, 55, 57, 65, 70, 78, 85, 89, 93, 107, 113, 118, 124], '2': [3, 11, 13, 18, 32, 35, 39, 41, 53, 62, 66, 67, 76, 101, 113, 114, 116, 125, 129], '3': [7, 13, 15, 19, 27, 44, 71, 76, 84, 94, 95, 101, 107, 109, 115, 118, 121, 124, 126], '4': [7, 11, 13, 16, 22, 23, 31, 33, 38, 43, 46, 51, 57, 67, 70, 85, 92, 103, 112], '5': [0, 5, 7, 9, 24, 31, 39, 47, 49, 57, 58, 59, 64, 80, 82, 93, 95, 100, 115], '6': [5, 11, 15, 23, 33, 40, 49, 57, 68, 72, 76, 77, 80, 97, 109, 114, 116, 125, 129]}, '11': {'1': [4, 22, 29, 38, 41, 46, 54, 61, 66, 72, 84, 85, 92, 98, 104, 114, 121, 124, 131], '2': [4, 10, 13, 21, 39, 49, 60, 63, 73, 74, 77, 80, 87, 92, 99, 105, 114, 121, 128], '3': [0, 3, 10, 17, 29, 30, 38, 41, 44, 50, 59, 65, 68, 76, 81, 88, 95, 104, 125], '4': [2, 10, 11, 14, 21, 22, 28, 38, 41, 60, 70, 83, 95, 96, 103, 109, 110, 117, 125], '5': [7, 8, 11, 17, 37, 44, 47, 54, 59, 65, 66, 73, 83, 93, 103, 115, 118, 123, 131], '6': [0, 7, 16, 19, 22, 28, 37, 43, 46, 54, 59, 73, 74, 81, 88, 91, 98, 116, 126]}, '33': {'1': [7, 8, 17, 26, 32, 33, 39, 48, 55, 58, 65, 79, 87, 93, 104, 107, 110, 117, 125], '2': [0, 6, 15, 22, 25, 32, 46, 54, 60, 73, 74, 83, 92, 98, 104, 107, 110, 117, 125], '3': [5, 8, 11, 18, 26, 40, 41, 50, 59, 65, 79, 87, 93, 99, 105, 114, 121, 124, 131], '4': [13, 21, 27, 38, 41, 44, 51, 59, 66, 72, 81, 88, 91, 98, 106, 107, 116, 125, 131], '5': [13, 21, 27, 40, 41, 50, 59, 65, 66, 72, 81, 88, 91, 98, 104, 107, 110, 117, 125], '6': [5, 8, 11, 18, 26, 33, 39, 48, 55, 58, 65, 73, 74, 83, 92, 98, 112, 120, 126]} }"
      ],
      "metadata": {
        "id": "H1siGkCKUHMH"
      },
      "execution_count": null,
      "outputs": []
    },
    {
      "cell_type": "code",
      "source": [
        "sequence_l = 25\n",
        "chain_l = 132\n",
        "new_chunks = ['OG', '66', '33', '11', '2', '1']"
      ],
      "metadata": {
        "id": "0kK-WaiRUBNL"
      },
      "execution_count": null,
      "outputs": []
    },
    {
      "cell_type": "code",
      "source": [
        "##Patterning parameter\n",
        "def Spacer_S(s):\n",
        "    seq_calc = np.append(np.append(0, np.array(s)), chain_l-1)\n",
        "    para = 0\n",
        "    for i in range(1, len(seq_calc)):\n",
        "        f = (seq_calc[i]-seq_calc[i-1])/(chain_l-1)\n",
        "        if f != 0:\n",
        "            para -= f*np.log(f)\n",
        "    return para #para is the entropy of the spacers in the sequence\n",
        "\n",
        "#Calculating max omega\n",
        "max_sequence= [i for i in range(sequence_l)]\n",
        "f_stick = sequence_l/chain_l\n",
        "f_space = (1-f_stick)\n",
        "sigma_tot = (f_stick - f_space)**2 #assumes sticky residues are aromatic\n",
        "\n",
        "blob_l = 5 #5 this is set - see literature\n",
        "N_blob = chain_l-blob_l+1    #see literature\n",
        "\n",
        "def omega_max(s):\n",
        "    seq = np.zeros(chain_l, dtype = int)\n",
        "    omega = 0\n",
        "    for i in s:\n",
        "        seq[i] = 1\n",
        "    for i in range(0, N_blob):\n",
        "        seq_segment = np.array(seq[i:i+blob_l])\n",
        "        sigma_segment = (2*(np.sum(seq_segment)/blob_l)-1)**2\n",
        "        omega += (sigma_segment-sigma_tot)**2\n",
        "    omega /= N_blob\n",
        "    omega_max = omega\n",
        "    return omega_max\n",
        "\n",
        "omega_max = (omega_max(max_sequence))\n",
        "print(omega_max)\n",
        "\n",
        "#Calculating omega\n",
        "def omega(s):\n",
        "    seq = np.zeros(chain_l, dtype = int)\n",
        "    omega = 0\n",
        "    for i in s:\n",
        "        seq[i] = 1\n",
        "    for i in range(0, N_blob):\n",
        "        seq_segment = np.array(seq[i:i+blob_l])\n",
        "        #print(seq_segment)\n",
        "        sigma_segment = (2*(np.sum(seq_segment)/blob_l)-1)**2\n",
        "        omega += (sigma_segment-sigma_tot)**2\n",
        "    omega /= N_blob\n",
        "    omega /= omega_max\n",
        "    return omega\n",
        "\n",
        "patterning_parameter_dict = {}\n",
        "\n",
        "for i in new_chunks:\n",
        "    patterning_parameter_dict[i] = {}\n",
        "    x = seqs[i]\n",
        "    for key, value in x.items():\n",
        "      omega_seq = (omega(value))\n",
        "      patterning_parameter_dict[i][key] = omega_seq\n",
        "print(patterning_parameter_dict)\n"
      ],
      "metadata": {
        "colab": {
          "base_uri": "https://localhost:8080/"
        },
        "id": "faQM0JY4O7DN",
        "outputId": "36845b3a-a623-4d27-9091-54e67cf35065"
      },
      "execution_count": null,
      "outputs": [
        {
          "output_type": "stream",
          "name": "stdout",
          "text": [
            "0.3672085086612014\n",
            "{'OG': {'1': 0.4035613276761683}, '66': {'1': 0.4035613276761679}, '33': {'1': 0.41368661045998234, '2': 0.40356132767616815, '3': 0.4035613276761679, '4': 0.4035613276761681, '5': 0.4136866104599823, '6': 0.37152552311037823}, '11': {'1': 0.3824807840013662, '2': 0.39808369723067405, '3': 0.4221105506550163, '4': 0.49041482307132983, '5': 0.44319109432981857, '6': 0.42464187135097026}, '2': {'1': 0.45078505641767913, '2': 0.5169729971916256, '3': 0.47692824148438867, '4': 0.4453074259721848, '5': 0.5304595787785673, '6': 0.4166329202095229}, '1': {'1': 0.532575910420934, '2': 0.6071877913899144, '3': 0.4958924535168234, '4': 0.5013700839623181, '5': 0.5009550949087309, '6': 0.4453074259721853}}\n"
          ]
        }
      ]
    },
    {
      "cell_type": "code",
      "source": [
        "file_name = 'GRAPH_45_25/transition_temp_data.txt'"
      ],
      "metadata": {
        "id": "TvJqmZTl0m_v"
      },
      "execution_count": null,
      "outputs": []
    },
    {
      "cell_type": "code",
      "source": [
        "loc = '2_chains/final_graphs'\n",
        "path = f'/content/drive/MyDrive/A_132/{loc}'\n",
        "%cd $path"
      ],
      "metadata": {
        "colab": {
          "base_uri": "https://localhost:8080/"
        },
        "id": "jtgFgpJ-ws8I",
        "outputId": "312cf989-4c29-4ec1-a406-a25ac4b0470a"
      },
      "execution_count": null,
      "outputs": [
        {
          "output_type": "stream",
          "name": "stdout",
          "text": [
            "/content/drive/MyDrive/A_132/2_chains/final_graphs\n"
          ]
        }
      ]
    },
    {
      "cell_type": "code",
      "source": [
        "tt_OG = {}\n",
        "tt_OG_error = {}\n",
        "tt_OG['OG'] = {}\n",
        "tt_OG_error['OG'] = {}\n",
        "\n",
        "path = f'/content/drive/MyDrive/A_132/2_chains/{file_name}'\n",
        "with open(path, 'r') as file:\n",
        "  for line in file:\n",
        "      if 'Transition Temperature' in line:\n",
        "          den_vol = float(line.split(':')[-1].strip())\n",
        "          tt_OG['OG']['1'] = den_vol\n",
        "      if 'Error' in line:\n",
        "          dil_vol = float(line.split(':')[-1].strip())\n",
        "          tt_OG_error['OG']['1'] = dil_vol\n",
        "          break\n",
        "\n",
        "print(tt_OG)\n",
        "print(tt_OG_error)"
      ],
      "metadata": {
        "colab": {
          "base_uri": "https://localhost:8080/"
        },
        "id": "voTVSuoaujWR",
        "outputId": "34539e8a-5052-4da2-f816-92a50562cc7a"
      },
      "execution_count": null,
      "outputs": [
        {
          "output_type": "stream",
          "name": "stdout",
          "text": [
            "{'OG': {'1': 35.426645306844165}}\n",
            "{'OG': {'1': 0.40825178531886935}}\n"
          ]
        }
      ]
    },
    {
      "cell_type": "code",
      "source": [
        "tt_OG['66'] ={}\n",
        "tt_OG_error['66'] ={}\n",
        "path = f'/content/drive/MyDrive/CHUNK_66_132/2_chains_NEW_2_FINISHED/{file_name_2}'\n",
        "with open(path, 'r') as file:\n",
        "  for line in file:\n",
        "      if 'Transition Temperature' in line:\n",
        "          den_vol = float(line.split(':')[-1].strip())\n",
        "          tt_OG['66']['1'] = den_vol\n",
        "      if 'Error' in line:\n",
        "          dil_vol = float(line.split(':')[-1].strip())\n",
        "          tt_OG_error['66']['1'] = dil_vol\n",
        "          break\n",
        "\n",
        "print(tt_OG)\n",
        "print(tt_OG_error)"
      ],
      "metadata": {
        "colab": {
          "base_uri": "https://localhost:8080/"
        },
        "id": "rREkJWURPsk7",
        "outputId": "8ada5d8e-1e2d-4d61-e65a-b0710935e863"
      },
      "execution_count": null,
      "outputs": [
        {
          "output_type": "stream",
          "name": "stdout",
          "text": [
            "{'OG': {'1': 35.426645306844165}, '66': {'1': 34.185752203917744}, '1': {'1': 35.869584149076154, '2': 35.48051039441738, '3': 35.48051039441738, '4': 36.483537446476134, '5': 33.30922245239202, '6': 34.66917398608105}, '2': {'1': 34.90303498957352, '2': 36.11027014662969, '3': 34.23434683355792, '4': 36.60914943662521, '5': 36.05868363446696, '6': 34.438666672774545}, '11': {'1': 34.57350847412266, '2': 34.603738577130656, '3': 35.19318608285457, '4': 35.13220814271674, '5': 35.63987316496488, '6': 35.232969962949625}, '33': {'1': 35.76871348958284, '2': 34.186297553869515, '3': 34.0729806571489, '4': 34.93569606198846, '5': 35.674969476132105, '6': 34.37698760911426}}\n",
            "{'OG': {'1': 0.40825178531886935}, '66': {'1': 0.22808155898232396}, '1': {'1': 0.32841673956833345, '2': 0.17843204133701396, '3': 0.17843204133701396, '4': 0.0962496974481024, '5': 0.38429306368887095, '6': 0.3419978138795961}, '2': {'1': 0.2681138368477403, '2': 0.12062148019648666, '3': 0.13995914932689593, '4': 0.12277063257982604, '5': 0.20788677315602047, '6': 0.11675720175319408}, '11': {'1': 0.2441594526717659, '2': 0.21168724984486434, '3': 0.24054551821538747, '4': 0.17138055285793335, '5': 0.25469469720718096, '6': 0.1480441540460525}, '33': {'1': 0.14878325652239718, '2': 0.23431584763663021, '3': 0.2866680908283769, '4': 0.340390712484069, '5': 0.1981859367454474, '6': 0.25930653945862364}}\n"
          ]
        }
      ]
    },
    {
      "cell_type": "code",
      "source": [
        "file_name_2 = 'GRAPH_45_25/transition_temp_data_np_clip.txt'"
      ],
      "metadata": {
        "id": "jnhMfrez2kq3"
      },
      "execution_count": null,
      "outputs": []
    },
    {
      "cell_type": "code",
      "source": [
        "reshuff= ['1', '2', '3', '4', '5', '6']\n",
        "chunk = ['1', '2', '11', '33']\n",
        "\n",
        "for i in chunk:\n",
        "  x_path = f'/content/drive/MyDrive/CHUNK_{i}_132'\n",
        "  tt_OG[i] ={}\n",
        "  tt_OG_error[i] ={}\n",
        "  for j in reshuff:\n",
        "    y_path =  f'reshuffle_{j}/2_chains_NEW_2/{file_name_2}'\n",
        "    path = os.path.join(x_path, y_path)\n",
        "    if os.path.exists(path):\n",
        "      with open(path, 'r') as file:\n",
        "        for line in file:\n",
        "            if 'Transition Temperature' in line:\n",
        "                den_vol = float(line.split(':')[-1].strip())\n",
        "                tt_OG[i][j] = den_vol\n",
        "            if 'Error' in line:\n",
        "                dil_vol = float(line.split(':')[-1].strip())\n",
        "                tt_OG_error[i][j] = dil_vol\n",
        "                break\n"
      ],
      "metadata": {
        "id": "XVE_ZNhIQa27"
      },
      "execution_count": null,
      "outputs": []
    },
    {
      "cell_type": "code",
      "source": [
        "print(tt_OG)\n",
        "print(tt_OG_error)"
      ],
      "metadata": {
        "colab": {
          "base_uri": "https://localhost:8080/"
        },
        "id": "jgW5U9zoSNux",
        "outputId": "387bb551-0a0c-44bc-d46e-e555a7262802"
      },
      "execution_count": null,
      "outputs": [
        {
          "output_type": "stream",
          "name": "stdout",
          "text": [
            "{'OG': {'1': 35.426645306844165}, '66': {'1': 34.185752203917744}, '1': {'1': 35.85826619045436, '2': 35.4169906438142, '3': 35.4169906438142, '4': 36.34337923767557, '5': 33.13543631661684, '6': 34.46962662496612}, '2': {'1': 34.67664460721024, '2': 36.00858792263007, '3': 34.0779510902706, '4': 36.55779668685192, '5': 35.87707613178189, '6': 34.29508335290566}, '11': {'1': 34.35648001840289, '2': 34.38634167700746, '3': 34.99727618844375, '4': 34.9638537745277, '5': 35.44436190245031, '6': 35.11301333228669}, '33': {'1': 35.566230006921124, '2': 33.967035786758956, '3': 33.600741405648066, '4': 34.59141824246542, '5': 35.460638675018664, '6': 34.28755049675658}}\n",
            "{'OG': {'1': 0.40825178531886935}, '66': {'1': 0.22808155898232396}, '1': {'1': 0.3529971081756542, '2': 0.1967821477585603, '3': 0.1967821477585603, '4': 0.09840869985081459, '5': 0.3821270019288657, '6': 0.3616641089235687}, '2': {'1': 0.26763222612584125, '2': 0.13115129004909465, '3': 0.11117712046204317, '4': 0.1411934411256941, '5': 0.22899800809568324, '6': 0.10621030189014728}, '11': {'1': 0.24168661098667046, '2': 0.20693003477649333, '3': 0.25392091771632097, '4': 0.17289192526150163, '5': 0.28031731289726985, '6': 0.1532585226721538}, '33': {'1': 0.15520737428995926, '2': 0.22287375070749826, '3': 0.14736321594102586, '4': 0.3278880092418061, '5': 0.21461039832683124, '6': 0.2785520463635972}}\n"
          ]
        }
      ]
    },
    {
      "cell_type": "code",
      "source": [
        "loc = 'final_graphs_2_chains'\n",
        "path = f'/content/drive/MyDrive/A_132/{loc}'\n",
        "%cd $path\n",
        "\n",
        "label_2 = f'$^3$'\n",
        "label_1 = f'$^-$'\n",
        "label_3 = f'{label_1}{label_2}'\n",
        "\n",
        "colors = {}\n",
        "\n",
        "new_chunks = ['OG', '66', '33', '11', '2', '1']\n",
        "reshuffled_label_added = False\n",
        "\n",
        "for i in new_chunks:\n",
        "  param_i = patterning_parameter_dict[i]\n",
        "  tt = tt_OG[i]\n",
        "  tt_error = tt_OG_error[i]\n",
        "  list_values = []\n",
        "  list_keys = []\n",
        "  list_errors = []\n",
        "  for key, value in tt.items():\n",
        "    param = param_i[key]\n",
        "    list_values.append(value)\n",
        "    list_keys.append(param)\n",
        "    error = tt_error [key]\n",
        "    list_errors.append(error)\n",
        "\n",
        "  if i == 'OG':\n",
        "        color = 'red'\n",
        "        label = 'Original Sequence'\n",
        "        marker_alpha = 1.0\n",
        "  else:\n",
        "      color = 'blue'\n",
        "      marker_alpha = 0.5\n",
        "      if i == '66' and not reshuffled_label_added:\n",
        "          label = 'Reshuffled Sequence'\n",
        "          reshuffled_label_added = True\n",
        "      else:\n",
        "          label = None\n",
        "\n",
        "\n",
        "  print(list_values)\n",
        "  #color = plt.cm.get_cmap('tab10')(shuff.index(j) / len(shuff))\n",
        "  #colors[j] = color\n",
        "  #marker_color = color\n",
        "  #j_number = int(j.split('_')[1])\n",
        "  plt.errorbar(list_keys, list_values, yerr= list_errors, marker='o', color = color, capsize=5, alpha=marker_alpha, linestyle='None', label = label)\n",
        "\n",
        "#plt.xscale('log')\n",
        "plt.xlabel(r'$\\Omega_{aro}$')\n",
        "#plt.xlim(0.8, 100)\n",
        "plt.ylabel('Transition Temperature / Simulation Temperature Units ')\n",
        "\n",
        "#plt.ticklabel_format(axis='y', style='sci', scilimits=(0,0))\n",
        "#plt.title(f'Dilute Phase Concentrations')\n",
        "plt.legend(loc='upper left', bbox_to_anchor=(1, 1))\n",
        "plt.savefig('transition_temps_patterning_param_NEW.png')\n",
        "plt.show()"
      ],
      "metadata": {
        "colab": {
          "base_uri": "https://localhost:8080/",
          "height": 591
        },
        "id": "y-wTbeyeWohZ",
        "outputId": "2dff41fe-0900-4643-a63a-67bbad8c0e34"
      },
      "execution_count": null,
      "outputs": [
        {
          "output_type": "stream",
          "name": "stdout",
          "text": [
            "[Errno 2] No such file or directory: '/content/drive/MyDrive/A_132/final_graphs_2_chains'\n",
            "/content/drive/MyDrive/A_132/2_chains/final_graphs\n",
            "[35.426645306844165]\n",
            "[34.185752203917744]\n",
            "[35.566230006921124, 33.967035786758956, 33.600741405648066, 34.59141824246542, 35.460638675018664, 34.28755049675658]\n",
            "[34.35648001840289, 34.38634167700746, 34.99727618844375, 34.9638537745277, 35.44436190245031, 35.11301333228669]\n",
            "[34.67664460721024, 36.00858792263007, 34.0779510902706, 36.55779668685192, 35.87707613178189, 34.29508335290566]\n",
            "[35.85826619045436, 35.4169906438142, 35.4169906438142, 36.34337923767557, 33.13543631661684, 34.46962662496612]\n"
          ]
        },
        {
          "output_type": "display_data",
          "data": {
            "text/plain": [
              "<Figure size 640x480 with 1 Axes>"
            ],
            "image/png": "[encoded data removed]"
          },
          "metadata": {}
        }
      ]
    },
    {
      "cell_type": "code",
      "source": [
        "patterning_parameter_dict = {'OG': {'1': 0.4035613276761683}, '66': {'1': 0.4035613276761679}, '33': {'1': 0.41368661045998234, '2': 0.40356132767616815, '3': 0.4035613276761679, '4': 0.4035613276761681, '5': 0.4136866104599823, '6': 0.37152552311037823}, '11': {'1': 0.3824807840013662, '2': 0.39808369723067405, '3': 0.4221105506550163, '4': 0.49041482307132983, '5': 0.44319109432981857, '6': 0.42464187135097026}, '2': {'1': 0.45078505641767913, '2': 0.5169729971916256, '3': 0.47692824148438867, '4': 0.4453074259721848, '5': 0.5304595787785673, '6': 0.4166329202095229}, '1': {'1': 0.532575910420934, '2': 0.6071877913899144, '3': 0.4958924535168234, '4': 0.5013700839623181, '5': 0.5009550949087309, '6': 0.4453074259721853}}"
      ],
      "metadata": {
        "id": "V4S83IvVbQJ4"
      },
      "execution_count": null,
      "outputs": []
    },
    {
      "cell_type": "code",
      "source": [
        "list_conc = []\n",
        "list_param = []\n",
        "for k in new_chunks:\n",
        "    tt = tt_OG[i]\n",
        "    param_i = patterning_parameter_dict[i]\n",
        "    for key, value in tt.items():\n",
        "      param =  param_i[key]\n",
        "      dil_vol_frac_k = value\n",
        "      list_conc.append(dil_vol_frac_k)\n",
        "      list_param.append(param)\n",
        "\n",
        "X = np.array(list_param)\n",
        "Y = np.array(list_conc)\n",
        "mean_X = np.mean(X)\n",
        "mean_Y = np.mean(Y)\n",
        "\n",
        "# Step 2: Compute covariance\n",
        "covariance = np.cov(X, Y)[0, 1]\n",
        "\n",
        "# Step 3: Compute standard deviations\n",
        "std_dev_X = np.std(X, ddof=1)  # ddof=1 for sample standard deviation\n",
        "std_dev_Y = np.std(Y, ddof=1)\n",
        "\n",
        "# Step 4: Calculate Pearson's correlation coefficient\n",
        "correlation_coefficient = covariance / (std_dev_X * std_dev_Y)\n",
        "\n",
        "print(\"Pearson's correlation coefficient:\", correlation_coefficient)\n",
        "spearman_coefficient, _ = spearmanr(X, Y)\n",
        "\n",
        "print(\"Spearman's rank correlation coefficient:\", spearman_coefficient)"
      ],
      "metadata": {
        "colab": {
          "base_uri": "https://localhost:8080/"
        },
        "id": "RLivCqzGa_Rr",
        "outputId": "23670aa3-3500-44c7-a975-348d07c112df"
      },
      "execution_count": null,
      "outputs": [
        {
          "output_type": "stream",
          "name": "stdout",
          "text": [
            "Pearson's correlation coefficient: 0.2959850593445008\n",
            "Spearman's rank correlation coefficient: 0.4928053803045811\n"
          ]
        }
      ]
    },
    {
      "cell_type": "code",
      "source": [
        "label_2 = f'$^3$'\n",
        "label_1 = f'$^-$'\n",
        "label_3 = f'{label_1}{label_2}'\n",
        "\n",
        "colors = {}\n",
        "\n",
        "new_chunks = ['1', '2', '11', '33', '66']\n",
        "\n",
        "plt.hlines(tt_OG['OG']['1'], xmin=0, xmax=100, color='red', linestyle='dashed', label='Original Sequence')\n",
        "for i in new_chunks:\n",
        "  tt = tt_OG[i]\n",
        "  tt_error = tt_OG_error[i]\n",
        "  list_values = []\n",
        "  list_keys = []\n",
        "  list_errors = []\n",
        "  for key, value in tt.items():\n",
        "    list_values.append(value)\n",
        "    list_keys.append(int(i))\n",
        "    error = tt_error [key]\n",
        "    list_errors.append(error)\n",
        "\n",
        "  color = 'blue'\n",
        "  marker_alpha = 0.5\n",
        "  label = 'Reshuffled Sequence' if i == '66' and key == '1' else None\n",
        "  plt.errorbar(list_keys, list_values, yerr= list_errors, color = color, marker='o', capsize=5, alpha=marker_alpha, label = label, linestyle = 'None')\n",
        "\n",
        "plt.xscale('log')\n",
        "plt.xlabel('log(Blob Size)')\n",
        "plt.ylabel('Transition Temperature / Simulation Temperature Units ')\n",
        "plt.legend(loc='upper left', bbox_to_anchor=(1, 1))\n",
        "plt.savefig('transition_temps_blob_NEW.png')\n",
        "plt.show()"
      ],
      "metadata": {
        "colab": {
          "base_uri": "https://localhost:8080/",
          "height": 454
        },
        "id": "kyNWgwtlcHcx",
        "outputId": "0e55b153-942e-44ae-cc4e-20f71480899c"
      },
      "execution_count": null,
      "outputs": [
        {
          "output_type": "display_data",
          "data": {
            "text/plain": [
              "<Figure size 640x480 with 1 Axes>"
            ],
            "image/png": "[encoded data removed]"
          },
          "metadata": {}
        }
      ]
    }
  ]
}
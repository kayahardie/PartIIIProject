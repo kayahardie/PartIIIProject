{
  "nbformat": 4,
  "nbformat_minor": 0,
  "metadata": {
    "colab": {
      "provenance": [],
      "authorship_tag": "ABX9TyMK81YsBU8l1CC+2/cumrDc",
      "include_colab_link": true
    },
    "kernelspec": {
      "name": "python3",
      "display_name": "Python 3"
    },
    "language_info": {
      "name": "python"
    }
  },
  "cells": [
    {
      "cell_type": "markdown",
      "metadata": {
        "id": "view-in-github",
        "colab_type": "text"
      },
      "source": [
        "<a href=\"https://colab.research.google.com/github/kayahardie/PartIIIProject/blob/main/Submit_Setting_up_files.ipynb\" target=\"_parent\"><img src=\"https://colab.research.google.com/assets/colab-badge.svg\" alt=\"Open In Colab\"/></a>"
      ]
    },
    {
      "cell_type": "code",
      "execution_count": null,
      "metadata": {
        "colab": {
          "base_uri": "https://localhost:8080/"
        },
        "id": "3vvDBWbtwc1g",
        "outputId": "a2cef5e8-5671-4653-b710-0588179ddec0"
      },
      "outputs": [
        {
          "output_type": "stream",
          "name": "stdout",
          "text": [
            "Mounted at /content/drive\n"
          ]
        }
      ],
      "source": [
        "from google.colab import drive\n",
        "drive.mount('/content/drive')"
      ]
    },
    {
      "cell_type": "code",
      "source": [
        "%matplotlib inline\n",
        "import numpy as np\n",
        "import scipy as sp\n",
        "import os\n",
        "import matplotlib.pyplot as plt\n",
        "from scipy.spatial.distance import cdist\n",
        "from itertools import chain\n",
        "import fileinput\n",
        "import shutil"
      ],
      "metadata": {
        "id": "_2xbJ8MYwgVU"
      },
      "execution_count": null,
      "outputs": []
    },
    {
      "cell_type": "code",
      "source": [
        "chunks = ['33', '11', '2', '1']\n",
        "runs = ['a', 'b', 'c']\n",
        "runs_2 = ['a', 'b', 'c']\n",
        "shuff = ['1', '2', '3', '4', '5', '6']"
      ],
      "metadata": {
        "id": "Fgm5UDxuOUSn"
      },
      "execution_count": null,
      "outputs": []
    },
    {
      "cell_type": "code",
      "source": [
        "chunks = ['33', '11', '2', '1']\n",
        "runs = ['a', 'b', 'c']\n",
        "shuff = ['1', '2', '3', '4', '5', '6']\n",
        "\n",
        "for i in chunks:\n",
        "    for m in shuff:\n",
        "        path = f'/content/drive/MyDrive/CHUNK_{i}_132/reshuffle_{m}'\n",
        "        %cd $path\n",
        "\n",
        "        for f in runs:\n",
        "            folder_path = f'2_chains_NEW_2/stepdown_temp_45_25_{f}'\n",
        "            if not os.path.exists(folder_path):\n",
        "                os.makedirs(folder_path, exist_ok=True)\n"
      ],
      "metadata": {
        "colab": {
          "base_uri": "https://localhost:8080/"
        },
        "id": "7tR1ONRcTEO2",
        "outputId": "383b0ce1-4f60-484c-a080-0f5ea6afc630"
      },
      "execution_count": null,
      "outputs": [
        {
          "output_type": "stream",
          "name": "stdout",
          "text": [
            "/content/drive/MyDrive/CHUNK_33_132/reshuffle_1\n",
            "/content/drive/MyDrive/CHUNK_33_132/reshuffle_2\n",
            "/content/drive/MyDrive/CHUNK_33_132/reshuffle_3\n",
            "/content/drive/MyDrive/CHUNK_33_132/reshuffle_4\n",
            "/content/drive/MyDrive/CHUNK_33_132/reshuffle_5\n",
            "/content/drive/MyDrive/CHUNK_33_132/reshuffle_6\n",
            "/content/drive/MyDrive/CHUNK_11_132/reshuffle_1\n",
            "/content/drive/MyDrive/CHUNK_11_132/reshuffle_2\n",
            "/content/drive/MyDrive/CHUNK_11_132/reshuffle_3\n",
            "/content/drive/MyDrive/CHUNK_11_132/reshuffle_4\n",
            "/content/drive/MyDrive/CHUNK_11_132/reshuffle_5\n",
            "/content/drive/MyDrive/CHUNK_11_132/reshuffle_6\n",
            "/content/drive/MyDrive/CHUNK_2_132/reshuffle_1\n",
            "/content/drive/MyDrive/CHUNK_2_132/reshuffle_2\n",
            "/content/drive/MyDrive/CHUNK_2_132/reshuffle_3\n",
            "/content/drive/MyDrive/CHUNK_2_132/reshuffle_4\n",
            "/content/drive/MyDrive/CHUNK_2_132/reshuffle_5\n",
            "/content/drive/MyDrive/CHUNK_2_132/reshuffle_6\n",
            "/content/drive/MyDrive/CHUNK_1_132/reshuffle_1\n",
            "/content/drive/MyDrive/CHUNK_1_132/reshuffle_2\n",
            "/content/drive/MyDrive/CHUNK_1_132/reshuffle_3\n",
            "/content/drive/MyDrive/CHUNK_1_132/reshuffle_4\n",
            "/content/drive/MyDrive/CHUNK_1_132/reshuffle_5\n",
            "/content/drive/MyDrive/CHUNK_1_132/reshuffle_6\n"
          ]
        }
      ]
    },
    {
      "cell_type": "code",
      "source": [
        "#66\n",
        "chunks = ['66']\n",
        "runs = ['a', 'b', 'c']\n",
        "shuff = ['1', '2', '3', '4', '5', '6']\n",
        "\n",
        "for i in chunks:\n",
        "    for m in shuff:\n",
        "        path = f'/content/drive/MyDrive/CHUNK_{i}_132'\n",
        "        %cd $path\n",
        "\n",
        "        for f in runs:\n",
        "            folder_path = f'2_chains_NEW_2/stepdown_temp_45_25_{f}'\n",
        "            if not os.path.exists(folder_path):\n",
        "                os.makedirs(folder_path, exist_ok=True)\n",
        "for i in chunks:\n",
        "    for m in shuff:\n",
        "        path = f'/content/drive/MyDrive/CHUNK_{i}_132'\n",
        "        %cd $path\n",
        "\n",
        "        for f in runs:\n",
        "            folder_path = f'2_chains_NEW_2/GRAPH_45_25'\n",
        "            if not os.path.exists(folder_path):\n",
        "                os.makedirs(folder_path, exist_ok=True)\n",
        "\n",
        "for i in chunks:\n",
        "  folder_1 = f'/content/drive/MyDrive/CHUNK_{i}_132'\n",
        "  for m in shuff:\n",
        "    folder_3 = '50.0'\n",
        "    for f in runs:\n",
        "      destination_folder_1 = f'2_chains_NEW_2/stepdown_temp_45_25_{f}'\n",
        "\n",
        "      if not os.path.exists(destination_folder_1):\n",
        "          print('Folder not found')\n",
        "\n",
        "      file_to_copy = 'structure.prm'\n",
        "      source_file_path = os.path.join(folder_1, folder_3, file_to_copy)\n",
        "      destination_folder = os.path.join(folder_1, destination_folder_1)\n",
        "      shutil.copy(source_file_path, destination_folder)\n",
        "\n",
        "file_to_copy = 'structure.prm'\n",
        "for i in chunks:\n",
        "  folder_1 = f'/content/drive/MyDrive/CHUNK_{i}_132'\n",
        "  for m in shuff:\n",
        "    for f in runs:\n",
        "      destination_folder_1 = f'2_chains_NEW_2/stepdown_temp_45_25_{f}'\n",
        "      destination_folder = os.path.join(folder_1, destination_folder_1, file_to_copy)\n",
        "      with open(destination_folder, 'r') as file:\n",
        "          lines = file.readlines()\n",
        "\n",
        "      # Find the line containing \"NEW\" and replace the next line\n",
        "      for i, line in enumerate(lines):\n",
        "          if 'NEW' in line:\n",
        "              lines[i + 1] = '2\\n'\n",
        "\n",
        "      # Write the modified content back to the file\n",
        "      with open(destination_folder, 'w') as file:\n",
        "          file.writelines(lines)"
      ],
      "metadata": {
        "colab": {
          "base_uri": "https://localhost:8080/"
        },
        "id": "VbU0_y7KTIk8",
        "outputId": "435bba15-4353-430a-d01c-0315d59fb8ad"
      },
      "execution_count": null,
      "outputs": [
        {
          "output_type": "stream",
          "name": "stdout",
          "text": [
            "/content/drive/MyDrive/CHUNK_66_132\n",
            "/content/drive/MyDrive/CHUNK_66_132\n",
            "/content/drive/MyDrive/CHUNK_66_132\n",
            "/content/drive/MyDrive/CHUNK_66_132\n",
            "/content/drive/MyDrive/CHUNK_66_132\n",
            "/content/drive/MyDrive/CHUNK_66_132\n",
            "/content/drive/MyDrive/CHUNK_66_132\n",
            "/content/drive/MyDrive/CHUNK_66_132\n",
            "/content/drive/MyDrive/CHUNK_66_132\n",
            "/content/drive/MyDrive/CHUNK_66_132\n",
            "/content/drive/MyDrive/CHUNK_66_132\n",
            "/content/drive/MyDrive/CHUNK_66_132\n"
          ]
        }
      ]
    },
    {
      "cell_type": "code",
      "source": [
        "for f in runs:\n",
        "  lassi = f'/content/drive/MyDrive/A_132/SOURCE_{f}/lassi'\n",
        "  energy = f'/content/drive/MyDrive/A_132/SOURCE_{f}/energy.prm'\n",
        "  param = f'/content/drive/MyDrive/A_132/SOURCE_{f}/param.key'\n",
        "  for i in chunks:\n",
        "    folder_1 = f'/content/drive/MyDrive/CHUNK_{i}_132'\n",
        "    for m in shuff:\n",
        "      destination_folder_1 = f'2_chains_NEW_2/stepdown_temp_45_25_{f}'\n",
        "\n",
        "      if not os.path.exists(destination_folder):\n",
        "          print('Folder not found')\n",
        "\n",
        "      file_to_copy = 'structure.prm'\n",
        "      destination_folder = os.path.join(folder_1, destination_folder_1)\n",
        "      #destination_file_path = os.path.join(destination_folder, file_to_copy)\n",
        "      shutil.copy(lassi, destination_folder)\n",
        "      shutil.copy(energy, destination_folder)\n",
        "      shutil.copy(param, destination_folder)"
      ],
      "metadata": {
        "id": "bl35O4AcYHMS"
      },
      "execution_count": null,
      "outputs": []
    },
    {
      "cell_type": "code",
      "source": [
        "chunks = ['33', '11', '2', '1']\n",
        "runs = ['a', 'b', 'c']\n",
        "shuff = ['1', '2', '3', '4', '5', '6']\n",
        "\n",
        "for i in chunks:\n",
        "    for m in shuff:\n",
        "        path = f'/content/drive/MyDrive/CHUNK_{i}_132/reshuffle_{m}'\n",
        "        %cd $path\n",
        "\n",
        "        for f in runs:\n",
        "            folder_path = f'2_chains_NEW_2/GRAPH_45_25'\n",
        "            if not os.path.exists(folder_path):\n",
        "                os.makedirs(folder_path, exist_ok=True)\n"
      ],
      "metadata": {
        "colab": {
          "base_uri": "https://localhost:8080/"
        },
        "id": "0n1HM65f81rO",
        "outputId": "744e94c6-486c-4b9e-9018-e1742fca5e10"
      },
      "execution_count": null,
      "outputs": [
        {
          "output_type": "stream",
          "name": "stdout",
          "text": [
            "/content/drive/MyDrive/CHUNK_33_132/reshuffle_1\n",
            "/content/drive/MyDrive/CHUNK_33_132/reshuffle_2\n",
            "/content/drive/MyDrive/CHUNK_33_132/reshuffle_3\n",
            "/content/drive/MyDrive/CHUNK_33_132/reshuffle_4\n",
            "/content/drive/MyDrive/CHUNK_33_132/reshuffle_5\n",
            "/content/drive/MyDrive/CHUNK_33_132/reshuffle_6\n",
            "/content/drive/MyDrive/CHUNK_11_132/reshuffle_1\n",
            "/content/drive/MyDrive/CHUNK_11_132/reshuffle_2\n",
            "/content/drive/MyDrive/CHUNK_11_132/reshuffle_3\n",
            "/content/drive/MyDrive/CHUNK_11_132/reshuffle_4\n",
            "/content/drive/MyDrive/CHUNK_11_132/reshuffle_5\n",
            "/content/drive/MyDrive/CHUNK_11_132/reshuffle_6\n",
            "/content/drive/MyDrive/CHUNK_2_132/reshuffle_1\n",
            "/content/drive/MyDrive/CHUNK_2_132/reshuffle_2\n",
            "/content/drive/MyDrive/CHUNK_2_132/reshuffle_3\n",
            "/content/drive/MyDrive/CHUNK_2_132/reshuffle_4\n",
            "/content/drive/MyDrive/CHUNK_2_132/reshuffle_5\n",
            "/content/drive/MyDrive/CHUNK_2_132/reshuffle_6\n",
            "/content/drive/MyDrive/CHUNK_1_132/reshuffle_1\n",
            "/content/drive/MyDrive/CHUNK_1_132/reshuffle_2\n",
            "/content/drive/MyDrive/CHUNK_1_132/reshuffle_3\n",
            "/content/drive/MyDrive/CHUNK_1_132/reshuffle_4\n",
            "/content/drive/MyDrive/CHUNK_1_132/reshuffle_5\n",
            "/content/drive/MyDrive/CHUNK_1_132/reshuffle_6\n"
          ]
        }
      ]
    },
    {
      "cell_type": "code",
      "source": [
        "for i in chunks:\n",
        "  folder_1 = f'/content/drive/MyDrive/CHUNK_{i}_132'\n",
        "  for m in shuff:\n",
        "    folder_2 = f'reshuffle_{m}'\n",
        "    folder_3 = '50.0'\n",
        "    for f in runs:\n",
        "      destination_folder_1 = f'2_chains_NEW_2/stepdown_temp_45_25_{f}'\n",
        "\n",
        "      if not os.path.exists(destination_folder_1):\n",
        "          print('Folder not found')\n",
        "\n",
        "      file_to_copy = 'structure.prm'\n",
        "      source_file_path = os.path.join(folder_1, folder_2, folder_3, file_to_copy)\n",
        "      destination_folder = os.path.join(folder_1, folder_2, destination_folder_1)\n",
        "      shutil.copy(source_file_path, destination_folder)"
      ],
      "metadata": {
        "id": "z7j33HzTMtqh"
      },
      "execution_count": null,
      "outputs": []
    },
    {
      "cell_type": "code",
      "source": [
        "file_to_copy = 'structure.prm'\n",
        "for i in chunks:\n",
        "  folder_1 = f'/content/drive/MyDrive/CHUNK_{i}_132'\n",
        "  for m in shuff:\n",
        "    folder_2 = f'reshuffle_{m}'\n",
        "    for f in runs:\n",
        "      destination_folder_1 = f'2_chains_NEW_2/stepdown_temp_45_25_{f}'\n",
        "      destination_folder = os.path.join(folder_1, folder_2, destination_folder_1, file_to_copy)\n",
        "      with open(destination_folder, 'r') as file:\n",
        "          lines = file.readlines()\n",
        "\n",
        "      # Find the line containing \"NEW\" and replace the next line\n",
        "      for i, line in enumerate(lines):\n",
        "          if 'NEW' in line:\n",
        "              lines[i + 1] = '2\\n'\n",
        "\n",
        "      # Write the modified content back to the file\n",
        "      with open(destination_folder, 'w') as file:\n",
        "          file.writelines(lines)"
      ],
      "metadata": {
        "id": "te7D3z8OG99u"
      },
      "execution_count": null,
      "outputs": []
    },
    {
      "cell_type": "code",
      "source": [
        "for f in runs:\n",
        "  lassi = f'/content/drive/MyDrive/A_132/SOURCE_{f}/lassi'\n",
        "  energy = f'/content/drive/MyDrive/A_132/SOURCE_{f}/energy.prm'\n",
        "  param = f'/content/drive/MyDrive/A_132/SOURCE_{f}/param.key'\n",
        "  for i in chunks:\n",
        "    folder_1 = f'/content/drive/MyDrive/CHUNK_{i}_132'\n",
        "    for m in shuff:\n",
        "      folder_2 = f'reshuffle_{m}'\n",
        "      destination_folder_1 = f'2_chains_NEW_2/stepdown_temp_45_25_{f}'\n",
        "\n",
        "      if not os.path.exists(destination_folder):\n",
        "          print('Folder not found')\n",
        "\n",
        "      file_to_copy = 'structure.prm'\n",
        "      destination_folder = os.path.join(folder_1, folder_2, destination_folder_1)\n",
        "      #destination_file_path = os.path.join(destination_folder, file_to_copy)\n",
        "      shutil.copy(lassi, destination_folder)\n",
        "      shutil.copy(energy, destination_folder)\n",
        "      shutil.copy(param, destination_folder)\n"
      ],
      "metadata": {
        "id": "Fcn4k9vRRrA2"
      },
      "execution_count": null,
      "outputs": []
    },
    {
      "cell_type": "code",
      "source": [
        "##30MER"
      ],
      "metadata": {
        "id": "LXVilveoscXx"
      },
      "execution_count": null,
      "outputs": []
    },
    {
      "cell_type": "code",
      "source": [
        "temps = [0.1, 0.2]\n",
        "\n",
        "for i in temps:\n",
        "  path = f'/content/drive/MyDrive/30mer_new_E/Sequence_1/{i}'\n",
        "  filename = 'param.key'\n",
        "  if os.path.exists(os.path.join(path, 'Copy of Copy of Copy of ' + filename)):\n",
        "      os.rename(os.path.join(path, 'Copy of Copy of Copy of ' + filename), os.path.join(path, filename))\n",
        "  filename = 'structure.prm'\n",
        "  if os.path.exists(os.path.join(path, 'Copy of Copy of ' + filename)):\n",
        "      os.rename(os.path.join(path, 'Copy of Copy of ' + filename), os.path.join(path, filename))\n",
        "  filename = 'energy.prm'\n",
        "  if os.path.exists(os.path.join(path, 'Copy of Copy of ' + filename)):\n",
        "      os.rename(os.path.join(path, 'Copy of Copy of ' + filename), os.path.join(path, filename))\n",
        "  filename = 'lassi'\n",
        "  if os.path.exists(os.path.join(path, 'Copy of Copy of ' + filename)):\n",
        "      os.rename(os.path.join(path, 'Copy of Copy of ' + filename), os.path.join(path, filename))"
      ],
      "metadata": {
        "id": "1G5RNeTmHH64"
      },
      "execution_count": null,
      "outputs": []
    },
    {
      "cell_type": "code",
      "source": [
        "temps = [0.1, 0.2]\n",
        "\n",
        "for i in temps:\n",
        "  i = str(i)\n",
        "  loc = 1.0\n",
        "  old_value = f'MC_TEMP    0.3'\n",
        "  new_value = f'MC_TEMP    {i}'\n",
        "  path = f'/content/drive/MyDrive/30mer_new_E/Sequence_1/{i}'\n",
        "  filename = 'param.key'\n",
        "  if os.path.exists(os.path.join(path, filename)):\n",
        "    file_path = (os.path.join(path, filename))\n",
        "    with fileinput.FileInput(file_path, inplace=True) as file:\n",
        "        for line in file:\n",
        "            print(line.replace(old_value, new_value), end='')"
      ],
      "metadata": {
        "id": "NGJJGmAQtYLH"
      },
      "execution_count": null,
      "outputs": []
    },
    {
      "cell_type": "code",
      "source": [
        "##LONG"
      ],
      "metadata": {
        "id": "N8HwZCMpsdnZ"
      },
      "execution_count": null,
      "outputs": []
    },
    {
      "cell_type": "code",
      "source": [
        "temps = ['50_b', '50_c']\n",
        "num = ['reshuffle_1','reshuffle_2', 'reshuffle_3', 'reshuffle_4','reshuffle_5', 'reshuffle_6']\n",
        "for j in num:\n",
        "  for i in temps:\n",
        "    path = f'/content/drive/MyDrive/CHUNK_33_132/{j}/{i}'\n",
        "    filename = 'param.key'\n",
        "    if os.path.exists(os.path.join(path, 'Copy of ' + filename)):\n",
        "        os.rename(os.path.join(path, 'Copy of ' + filename), os.path.join(path, filename))\n",
        "    filename = 'structure.prm'\n",
        "    if os.path.exists(os.path.join(path, 'Copy of ' + filename)):\n",
        "        os.rename(os.path.join(path, 'Copy of ' + filename), os.path.join(path, filename))\n",
        "    filename = 'energy.prm'\n",
        "    if os.path.exists(os.path.join(path, 'Copy of ' + filename)):\n",
        "        os.rename(os.path.join(path, 'Copy of ' + filename), os.path.join(path, filename))\n",
        "    filename = 'lassi'\n",
        "    if os.path.exists(os.path.join(path, 'Copy of ' + filename)):\n",
        "        os.rename(os.path.join(path, 'Copy of ' + filename), os.path.join(path, filename))"
      ],
      "metadata": {
        "id": "-IO_fA5_gonS"
      },
      "execution_count": null,
      "outputs": []
    },
    {
      "cell_type": "code",
      "source": [
        "temps = ['50_b', '50_c']\n",
        "for i in temps:\n",
        "    path = f'/content/drive/MyDrive/A_132/{i}'\n",
        "    filename = 'param.key'\n",
        "    if os.path.exists(os.path.join(path, 'Copy of ' + filename)):\n",
        "        os.rename(os.path.join(path, 'Copy of ' + filename), os.path.join(path, filename))\n",
        "    filename = 'structure.prm'\n",
        "    if os.path.exists(os.path.join(path, 'Copy of ' + filename)):\n",
        "        os.rename(os.path.join(path, 'Copy of ' + filename), os.path.join(path, filename))\n",
        "    filename = 'energy.prm'\n",
        "    if os.path.exists(os.path.join(path, 'Copy of ' + filename)):\n",
        "        os.rename(os.path.join(path, 'Copy of ' + filename), os.path.join(path, filename))\n",
        "    filename = 'lassi'\n",
        "    if os.path.exists(os.path.join(path, 'Copy of ' + filename)):\n",
        "        os.rename(os.path.join(path, 'Copy of ' + filename), os.path.join(path, filename))"
      ],
      "metadata": {
        "id": "AEhGNu9GBtJT"
      },
      "execution_count": null,
      "outputs": []
    },
    {
      "cell_type": "code",
      "source": [
        "temps = ['50_b', '50_c']\n",
        "for i in temps:\n",
        "  path = f'/content/drive/MyDrive/CHUNK_66_132/{i}'\n",
        "  filename = 'param.key'\n",
        "  if os.path.exists(os.path.join(path, 'Copy of Copy of ' + filename)):\n",
        "      os.rename(os.path.join(path, 'Copy of Copy of ' + filename), os.path.join(path, filename))\n",
        "  filename = 'structure.prm'\n",
        "  if os.path.exists(os.path.join(path, 'Copy of Copy of ' + filename)):\n",
        "      os.rename(os.path.join(path, 'Copy of Copy of ' + filename), os.path.join(path, filename))\n",
        "  filename = 'energy.prm'\n",
        "  if os.path.exists(os.path.join(path, 'Copy of Copy of ' + filename)):\n",
        "      os.rename(os.path.join(path, 'Copy of Copy of ' + filename), os.path.join(path, filename))\n",
        "  filename = 'lassi'\n",
        "  if os.path.exists(os.path.join(path, 'Copy of Copy of ' + filename)):\n",
        "      os.rename(os.path.join(path, 'Copy of Copy of ' + filename), os.path.join(path, filename))"
      ],
      "metadata": {
        "id": "LT98qoDAsDXT"
      },
      "execution_count": null,
      "outputs": []
    },
    {
      "cell_type": "code",
      "source": [
        "temps = [80.0, 60.0, 50.0]\n",
        "num = ['reshuffle_1','reshuffle_2', 'reshuffle_3']\n",
        "for j in num:\n",
        "  for i in temps:\n",
        "    path = f'/content/drive/MyDrive/CHUNK_1_132/{j}/{i}'\n",
        "    i = str(i)\n",
        "    old_value = f'MC_TEMP    50.0'\n",
        "    new_value = f'MC_TEMP    {i}'\n",
        "    filename = 'param.key'\n",
        "    if os.path.exists(os.path.join(path, filename)):\n",
        "      file_path = (os.path.join(path, filename))\n",
        "      with fileinput.FileInput(file_path, inplace=True) as file:\n",
        "          for line in file:\n",
        "              print(line.replace(old_value, new_value), end='')\n"
      ],
      "metadata": {
        "id": "ioDNa0B21g-T"
      },
      "execution_count": null,
      "outputs": []
    },
    {
      "cell_type": "code",
      "source": [
        "temps = [0.91, 0.92, 0.95, 0.98]\n",
        "\n",
        "for i in temps:\n",
        "  i = str(i)\n",
        "  loc = 1.0\n",
        "  path = f'/content/drive/MyDrive/30mer_new_E/Sequence_1/{i}'\n",
        "  path_lassi = f'/content/drive/MyDrive/30mer_new_E/Sequence_1/{i}/lassi'\n",
        "  %cd $path\n",
        "  os.chmod(path_lassi, 0o700)\n",
        "  ! $path_lassi\n"
      ],
      "metadata": {
        "colab": {
          "base_uri": "https://localhost:8080/",
          "height": 219
        },
        "id": "QyyaBYDJt4HW",
        "outputId": "02a395f3-bcf3-4165-f4ed-ab03a0af9faf"
      },
      "execution_count": null,
      "outputs": [
        {
          "output_type": "stream",
          "name": "stdout",
          "text": [
            "/content/drive/MyDrive/30mer_new_E/Sequence_1/0.91\n"
          ]
        },
        {
          "output_type": "error",
          "ename": "FileNotFoundError",
          "evalue": "[Errno 2] No such file or directory: '/content/drive/MyDrive/30mer_new_E/Sequence_1/0.91/lassi'",
          "traceback": [
            "\u001b[0;31m---------------------------------------------------------------------------\u001b[0m",
            "\u001b[0;31mFileNotFoundError\u001b[0m                         Traceback (most recent call last)",
            "\u001b[0;32m<ipython-input-48-62c0bd07d472>\u001b[0m in \u001b[0;36m<cell line: 3>\u001b[0;34m()\u001b[0m\n\u001b[1;32m      7\u001b[0m   \u001b[0mpath_lassi\u001b[0m \u001b[0;34m=\u001b[0m \u001b[0;34mf'/content/drive/MyDrive/30mer_new_E/Sequence_1/{i}/lassi'\u001b[0m\u001b[0;34m\u001b[0m\u001b[0;34m\u001b[0m\u001b[0m\n\u001b[1;32m      8\u001b[0m   \u001b[0mget_ipython\u001b[0m\u001b[0;34m(\u001b[0m\u001b[0;34m)\u001b[0m\u001b[0;34m.\u001b[0m\u001b[0mrun_line_magic\u001b[0m\u001b[0;34m(\u001b[0m\u001b[0;34m'cd'\u001b[0m\u001b[0;34m,\u001b[0m \u001b[0;34m'$path'\u001b[0m\u001b[0;34m)\u001b[0m\u001b[0;34m\u001b[0m\u001b[0;34m\u001b[0m\u001b[0m\n\u001b[0;32m----> 9\u001b[0;31m   \u001b[0mos\u001b[0m\u001b[0;34m.\u001b[0m\u001b[0mchmod\u001b[0m\u001b[0;34m(\u001b[0m\u001b[0mpath_lassi\u001b[0m\u001b[0;34m,\u001b[0m \u001b[0;36m0o700\u001b[0m\u001b[0;34m)\u001b[0m\u001b[0;34m\u001b[0m\u001b[0;34m\u001b[0m\u001b[0m\n\u001b[0m\u001b[1;32m     10\u001b[0m   \u001b[0mget_ipython\u001b[0m\u001b[0;34m(\u001b[0m\u001b[0;34m)\u001b[0m\u001b[0;34m.\u001b[0m\u001b[0msystem\u001b[0m\u001b[0;34m(\u001b[0m\u001b[0;34m' $path_lassi'\u001b[0m\u001b[0;34m)\u001b[0m\u001b[0;34m\u001b[0m\u001b[0;34m\u001b[0m\u001b[0m\n",
            "\u001b[0;31mFileNotFoundError\u001b[0m: [Errno 2] No such file or directory: '/content/drive/MyDrive/30mer_new_E/Sequence_1/0.91/lassi'"
          ]
        }
      ]
    },
    {
      "cell_type": "code",
      "source": [
        "path = '/content/drive/30mer_new_E/Sequence_1'"
      ],
      "metadata": {
        "id": "kgzGpnFPjI-J"
      },
      "execution_count": null,
      "outputs": []
    },
    {
      "cell_type": "code",
      "source": [
        "%cd $path"
      ],
      "metadata": {
        "colab": {
          "base_uri": "https://localhost:8080/"
        },
        "id": "onB7zIV0wlSf",
        "outputId": "cca845c3-501b-4240-ba89-3f0e89b671d7"
      },
      "execution_count": null,
      "outputs": [
        {
          "output_type": "stream",
          "name": "stdout",
          "text": [
            "[Errno 2] No such file or directory: '/content/drive/30mer_new_E/Sequence_1'\n",
            "/content\n"
          ]
        }
      ]
    },
    {
      "cell_type": "code",
      "source": [
        "!chmod +x lassi"
      ],
      "metadata": {
        "id": "n3wiPjAMwrFM"
      },
      "execution_count": null,
      "outputs": []
    }
  ]
}
{
  "nbformat": 4,
  "nbformat_minor": 0,
  "metadata": {
    "colab": {
      "provenance": [],
      "authorship_tag": "ABX9TyPLhLw5HmYbsbDIKBZEhXhW",
      "include_colab_link": true
    },
    "kernelspec": {
      "name": "python3",
      "display_name": "Python 3"
    },
    "language_info": {
      "name": "python"
    }
  },
  "cells": [
    {
      "cell_type": "markdown",
      "metadata": {
        "id": "view-in-github",
        "colab_type": "text"
      },
      "source": [
        "<a href=\"https://colab.research.google.com/github/kayahardie/PartIIIProject/blob/main/Submit_pattern.ipynb\" target=\"_parent\"><img src=\"https://colab.research.google.com/assets/colab-badge.svg\" alt=\"Open In Colab\"/></a>"
      ]
    },
    {
      "cell_type": "code",
      "execution_count": null,
      "metadata": {
        "colab": {
          "base_uri": "https://localhost:8080/"
        },
        "id": "OWk6vAbQD80E",
        "outputId": "24fdb14f-e14b-49fc-9d02-77e64903f2d6"
      },
      "outputs": [
        {
          "output_type": "stream",
          "name": "stdout",
          "text": [
            "Mounted at /content/drive\n"
          ]
        }
      ],
      "source": [
        "from google.colab import drive\n",
        "drive.mount('/content/drive')"
      ]
    },
    {
      "cell_type": "code",
      "source": [
        "%matplotlib inline\n",
        "import numpy as np\n",
        "import scipy as sp\n",
        "import os\n",
        "import matplotlib.pyplot as plt\n",
        "from scipy.spatial.distance import cdist\n",
        "import statistics\n",
        "import ast"
      ],
      "metadata": {
        "id": "CIZBauHSEBvj"
      },
      "execution_count": null,
      "outputs": []
    },
    {
      "cell_type": "code",
      "source": [
        "loc = 'patterning'\n",
        "path = f'/content/drive/MyDrive/A_132/{loc}'\n",
        "%cd $path"
      ],
      "metadata": {
        "colab": {
          "base_uri": "https://localhost:8080/"
        },
        "id": "8zffFcU-LTMB",
        "outputId": "781bc953-098a-482b-df04-8b396d6612e2"
      },
      "execution_count": null,
      "outputs": [
        {
          "output_type": "stream",
          "name": "stdout",
          "text": [
            "/content/drive/MyDrive/A_132/patterning\n"
          ]
        }
      ]
    },
    {
      "cell_type": "code",
      "source": [
        "sequence_l = 25\n",
        "chain_l = 132"
      ],
      "metadata": {
        "id": "DKSXnGwSFURs"
      },
      "execution_count": null,
      "outputs": []
    },
    {
      "cell_type": "code",
      "source": [
        "\n",
        "#Calculating max omega\n",
        "max_sequence= [i for i in range(sequence_l)]\n",
        "f_stick = sequence_l/chain_l\n",
        "f_space = (1-f_stick)\n",
        "sigma_tot = (f_stick - f_space)**2 #assumes sticky residues are aromatic\n",
        "\n",
        "blob_l = 5 #5 this is set - see literature\n",
        "N_blob = chain_l-blob_l+1    #see literature\n",
        "\n",
        "def omega_max(s):\n",
        "    seq = np.zeros(chain_l, dtype = int)\n",
        "    omega = 0\n",
        "    for i in s:\n",
        "        seq[i] = 1\n",
        "    for i in range(0, N_blob):\n",
        "        seq_segment = np.array(seq[i:i+blob_l])\n",
        "        sigma_segment = (2*(np.sum(seq_segment)/blob_l)-1)**2\n",
        "        omega += (sigma_segment-sigma_tot)**2\n",
        "    omega /= N_blob\n",
        "    omega_max = omega\n",
        "    return omega_max\n",
        "\n",
        "omega_max = (omega_max(max_sequence))\n",
        "print(omega_max)\n",
        "\n",
        "#Calculating omega\n",
        "def omega(s):\n",
        "    seq = np.zeros(chain_l, dtype = int)\n",
        "    omega = 0\n",
        "    for i in s:\n",
        "        seq[i] = 1\n",
        "    for i in range(0, N_blob):\n",
        "        seq_segment = np.array(seq[i:i+blob_l])\n",
        "        #print(seq_segment)\n",
        "        sigma_segment = (2*(np.sum(seq_segment)/blob_l)-1)**2\n",
        "        omega += (sigma_segment-sigma_tot)**2\n",
        "    omega /= N_blob\n",
        "    omega /= omega_max\n",
        "    return omega"
      ],
      "metadata": {
        "colab": {
          "base_uri": "https://localhost:8080/"
        },
        "id": "Wb17tuxiFS58",
        "outputId": "4de59c65-c5c3-47ea-e3ca-ee27bbf3c2c7"
      },
      "execution_count": null,
      "outputs": [
        {
          "output_type": "stream",
          "name": "stdout",
          "text": [
            "0.3672085086612014\n"
          ]
        }
      ]
    },
    {
      "cell_type": "code",
      "source": [
        "sequence_code = []\n",
        "sequence_code = list((input(\"Enter your sequence (in the form of single amino acid letters):\")))\n",
        "sequence_code = [value for value in sequence_code if value is not None and value != \" \"]\n",
        "\n",
        "sequence_code_replaced_X = []\n",
        "sequence_code_replaced_X = ['X' if value not in ['Y', 'F', 'R', 'K', 'T', 'S', 'Q', 'N', 'G'] else value for value in sequence_code]"
      ],
      "metadata": {
        "colab": {
          "base_uri": "https://localhost:8080/"
        },
        "id": "Mx0iAXJDEb9E",
        "outputId": "8f39a40b-7bb0-4e58-d244-1f6e70e78ee7"
      },
      "execution_count": null,
      "outputs": [
        {
          "name": "stdout",
          "output_type": "stream",
          "text": [
            "Enter your sequence (in the form of single amino acid letters):ASSSQRGRSGSGNFGGGRGGGFGGNDNFGRGGNFSGRGGFGGSRGGGGYGGSGDGYNGFGNDGSNFGGGGSYNDFGNYNNQSSNFGPMKGGNFGGRSSGGSGGGGQYFAKPRNQGGYGGSSSSSSYGSGRRF\n"
          ]
        }
      ]
    },
    {
      "cell_type": "code",
      "source": [],
      "metadata": {
        "id": "QHqV9rCyzC9L"
      },
      "execution_count": null,
      "outputs": []
    },
    {
      "cell_type": "code",
      "source": [
        "positions = [i for i, char in enumerate(sequence_code_replaced_X) if char in ('Y', 'F', 'W')]\n",
        "omega_seq = (omega(positions))\n",
        "print(omega_seq)"
      ],
      "metadata": {
        "colab": {
          "base_uri": "https://localhost:8080/"
        },
        "id": "-JwdWKRBy8Jj",
        "outputId": "b6ebee82-aef0-4983-c94f-1e139447fca3"
      },
      "execution_count": null,
      "outputs": [
        {
          "output_type": "stream",
          "name": "stdout",
          "text": [
            "0.4035613276761683\n"
          ]
        }
      ]
    },
    {
      "cell_type": "code",
      "source": [
        "print()"
      ],
      "metadata": {
        "id": "yI4QGT3vyyN-"
      },
      "execution_count": null,
      "outputs": []
    },
    {
      "cell_type": "code",
      "source": [
        "import random\n",
        "\n",
        "def split_and_shuffle(sequence, chunk_size):\n",
        "    # Split the sequence into chunks\n",
        "    chunks = [sequence[i:i + chunk_size] for i in range(0, len(sequence), chunk_size)]\n",
        "\n",
        "    # Shuffle the chunks\n",
        "    random.shuffle(chunks)\n",
        "\n",
        "    # Flatten the shuffled chunks to get the final shuffled sequence\n",
        "    shuffled_sequence = [element for chunk in chunks for element in chunk]\n",
        "\n",
        "    return shuffled_sequence"
      ],
      "metadata": {
        "id": "AzV2mWE9EjWc"
      },
      "execution_count": null,
      "outputs": []
    },
    {
      "cell_type": "code",
      "source": [
        "positions_dict = {}\n",
        "chunk_size = 1\n",
        "positions_dict[chunk_size] = {}\n",
        "for x in range(500000):\n",
        "  shuffled_sequence = split_and_shuffle(sequence_code_replaced_X, chunk_size)\n",
        "  positions = [i for i, char in enumerate(shuffled_sequence) if char in ('Y', 'F', 'W')]\n",
        "  positions_dict[chunk_size][x] = positions\n"
      ],
      "metadata": {
        "id": "MLxW7d-eF_Ok"
      },
      "execution_count": null,
      "outputs": []
    },
    {
      "cell_type": "code",
      "source": [
        "patterning_parameter_dict = {}\n",
        "patterning_parameter_dict[chunk_size] = {}\n",
        "for x in range(500000):\n",
        "    positions = positions_dict[chunk_size][x]\n",
        "    omega_seq = (omega(positions))\n",
        "    patterning_parameter_dict[chunk_size][x] = omega_seq"
      ],
      "metadata": {
        "id": "rpszDBSYGdfD"
      },
      "execution_count": null,
      "outputs": []
    },
    {
      "cell_type": "code",
      "source": [
        "list_chunk = []\n",
        "for x in range(500000):\n",
        "  data = patterning_parameter_dict[chunk_size][x]\n",
        "  list_chunk.append(data)\n",
        "array_chunk = np.array(list_chunk)\n",
        "plt.hist(array_chunk, bins=83, color='blue', alpha=0.7)\n",
        "plt.title(f'Chunk Size: {chunk_size}')\n",
        "plt.xlabel(r'$\\Omega_{aro}$')\n",
        "#plt.xlim(0.4, 0.6)\n",
        "plt.ylabel('Counts')\n",
        "plt.savefig(f'patterning_histogram_chunk_{chunk_size}.png')\n",
        "plt.show()"
      ],
      "metadata": {
        "colab": {
          "base_uri": "https://localhost:8080/",
          "height": 474
        },
        "id": "Svsq6NnSHVRh",
        "outputId": "748dfa1c-4f40-464e-9cd3-a8bf8080af15"
      },
      "execution_count": null,
      "outputs": [
        {
          "output_type": "display_data",
          "data": {
            "text/plain": [
              "<Figure size 640x480 with 1 Axes>"
            ],
            "image/png": "[encoded data removed]"
          },
          "metadata": {}
        }
      ]
    }
  ]
}
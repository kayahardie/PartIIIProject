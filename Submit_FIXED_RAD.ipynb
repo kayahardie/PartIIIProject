{
  "nbformat": 4,
  "nbformat_minor": 0,
  "metadata": {
    "colab": {
      "provenance": [],
      "authorship_tag": "ABX9TyP0P56Ijhrbef7mjXnaQoAc",
      "include_colab_link": true
    },
    "kernelspec": {
      "name": "python3",
      "display_name": "Python 3"
    },
    "language_info": {
      "name": "python"
    }
  },
  "cells": [
    {
      "cell_type": "markdown",
      "metadata": {
        "id": "view-in-github",
        "colab_type": "text"
      },
      "source": [
        "<a href=\"https://colab.research.google.com/github/kayahardie/PartIIIProject/blob/main/Submit_FIXED_RAD.ipynb\" target=\"_parent\"><img src=\"https://colab.research.google.com/assets/colab-badge.svg\" alt=\"Open In Colab\"/></a>"
      ]
    },
    {
      "cell_type": "code",
      "execution_count": null,
      "metadata": {
        "colab": {
          "base_uri": "https://localhost:8080/",
          "height": 304
        },
        "id": "DrDUNlnbwNmm",
        "outputId": "3b018dc5-9ea9-406a-c198-9e89baef22e7"
      },
      "outputs": [
        {
          "output_type": "error",
          "ename": "MessageError",
          "evalue": "Error: credential propagation was unsuccessful",
          "traceback": [
            "\u001b[0;31m---------------------------------------------------------------------------\u001b[0m",
            "\u001b[0;31mMessageError\u001b[0m                              Traceback (most recent call last)",
            "\u001b[0;32m<ipython-input-1-d5df0069828e>\u001b[0m in \u001b[0;36m<cell line: 2>\u001b[0;34m()\u001b[0m\n\u001b[1;32m      1\u001b[0m \u001b[0;32mfrom\u001b[0m \u001b[0mgoogle\u001b[0m\u001b[0;34m.\u001b[0m\u001b[0mcolab\u001b[0m \u001b[0;32mimport\u001b[0m \u001b[0mdrive\u001b[0m\u001b[0;34m\u001b[0m\u001b[0;34m\u001b[0m\u001b[0m\n\u001b[0;32m----> 2\u001b[0;31m \u001b[0mdrive\u001b[0m\u001b[0;34m.\u001b[0m\u001b[0mmount\u001b[0m\u001b[0;34m(\u001b[0m\u001b[0;34m'/content/drive'\u001b[0m\u001b[0;34m)\u001b[0m\u001b[0;34m\u001b[0m\u001b[0;34m\u001b[0m\u001b[0m\n\u001b[0m",
            "\u001b[0;32m/usr/local/lib/python3.10/dist-packages/google/colab/drive.py\u001b[0m in \u001b[0;36mmount\u001b[0;34m(mountpoint, force_remount, timeout_ms, readonly)\u001b[0m\n\u001b[1;32m     98\u001b[0m \u001b[0;32mdef\u001b[0m \u001b[0mmount\u001b[0m\u001b[0;34m(\u001b[0m\u001b[0mmountpoint\u001b[0m\u001b[0;34m,\u001b[0m \u001b[0mforce_remount\u001b[0m\u001b[0;34m=\u001b[0m\u001b[0;32mFalse\u001b[0m\u001b[0;34m,\u001b[0m \u001b[0mtimeout_ms\u001b[0m\u001b[0;34m=\u001b[0m\u001b[0;36m120000\u001b[0m\u001b[0;34m,\u001b[0m \u001b[0mreadonly\u001b[0m\u001b[0;34m=\u001b[0m\u001b[0;32mFalse\u001b[0m\u001b[0;34m)\u001b[0m\u001b[0;34m:\u001b[0m\u001b[0;34m\u001b[0m\u001b[0;34m\u001b[0m\u001b[0m\n\u001b[1;32m     99\u001b[0m   \u001b[0;34m\"\"\"Mount your Google Drive at the specified mountpoint path.\"\"\"\u001b[0m\u001b[0;34m\u001b[0m\u001b[0;34m\u001b[0m\u001b[0m\n\u001b[0;32m--> 100\u001b[0;31m   return _mount(\n\u001b[0m\u001b[1;32m    101\u001b[0m       \u001b[0mmountpoint\u001b[0m\u001b[0;34m,\u001b[0m\u001b[0;34m\u001b[0m\u001b[0;34m\u001b[0m\u001b[0m\n\u001b[1;32m    102\u001b[0m       \u001b[0mforce_remount\u001b[0m\u001b[0;34m=\u001b[0m\u001b[0mforce_remount\u001b[0m\u001b[0;34m,\u001b[0m\u001b[0;34m\u001b[0m\u001b[0;34m\u001b[0m\u001b[0m\n",
            "\u001b[0;32m/usr/local/lib/python3.10/dist-packages/google/colab/drive.py\u001b[0m in \u001b[0;36m_mount\u001b[0;34m(mountpoint, force_remount, timeout_ms, ephemeral, readonly)\u001b[0m\n\u001b[1;32m    131\u001b[0m   )\n\u001b[1;32m    132\u001b[0m   \u001b[0;32mif\u001b[0m \u001b[0mephemeral\u001b[0m\u001b[0;34m:\u001b[0m\u001b[0;34m\u001b[0m\u001b[0;34m\u001b[0m\u001b[0m\n\u001b[0;32m--> 133\u001b[0;31m     _message.blocking_request(\n\u001b[0m\u001b[1;32m    134\u001b[0m         \u001b[0;34m'request_auth'\u001b[0m\u001b[0;34m,\u001b[0m \u001b[0mrequest\u001b[0m\u001b[0;34m=\u001b[0m\u001b[0;34m{\u001b[0m\u001b[0;34m'authType'\u001b[0m\u001b[0;34m:\u001b[0m \u001b[0;34m'dfs_ephemeral'\u001b[0m\u001b[0;34m}\u001b[0m\u001b[0;34m,\u001b[0m \u001b[0mtimeout_sec\u001b[0m\u001b[0;34m=\u001b[0m\u001b[0;32mNone\u001b[0m\u001b[0;34m\u001b[0m\u001b[0;34m\u001b[0m\u001b[0m\n\u001b[1;32m    135\u001b[0m     )\n",
            "\u001b[0;32m/usr/local/lib/python3.10/dist-packages/google/colab/_message.py\u001b[0m in \u001b[0;36mblocking_request\u001b[0;34m(request_type, request, timeout_sec, parent)\u001b[0m\n\u001b[1;32m    174\u001b[0m       \u001b[0mrequest_type\u001b[0m\u001b[0;34m,\u001b[0m \u001b[0mrequest\u001b[0m\u001b[0;34m,\u001b[0m \u001b[0mparent\u001b[0m\u001b[0;34m=\u001b[0m\u001b[0mparent\u001b[0m\u001b[0;34m,\u001b[0m \u001b[0mexpect_reply\u001b[0m\u001b[0;34m=\u001b[0m\u001b[0;32mTrue\u001b[0m\u001b[0;34m\u001b[0m\u001b[0;34m\u001b[0m\u001b[0m\n\u001b[1;32m    175\u001b[0m   )\n\u001b[0;32m--> 176\u001b[0;31m   \u001b[0;32mreturn\u001b[0m \u001b[0mread_reply_from_input\u001b[0m\u001b[0;34m(\u001b[0m\u001b[0mrequest_id\u001b[0m\u001b[0;34m,\u001b[0m \u001b[0mtimeout_sec\u001b[0m\u001b[0;34m)\u001b[0m\u001b[0;34m\u001b[0m\u001b[0;34m\u001b[0m\u001b[0m\n\u001b[0m",
            "\u001b[0;32m/usr/local/lib/python3.10/dist-packages/google/colab/_message.py\u001b[0m in \u001b[0;36mread_reply_from_input\u001b[0;34m(message_id, timeout_sec)\u001b[0m\n\u001b[1;32m    101\u001b[0m     ):\n\u001b[1;32m    102\u001b[0m       \u001b[0;32mif\u001b[0m \u001b[0;34m'error'\u001b[0m \u001b[0;32min\u001b[0m \u001b[0mreply\u001b[0m\u001b[0;34m:\u001b[0m\u001b[0;34m\u001b[0m\u001b[0;34m\u001b[0m\u001b[0m\n\u001b[0;32m--> 103\u001b[0;31m         \u001b[0;32mraise\u001b[0m \u001b[0mMessageError\u001b[0m\u001b[0;34m(\u001b[0m\u001b[0mreply\u001b[0m\u001b[0;34m[\u001b[0m\u001b[0;34m'error'\u001b[0m\u001b[0;34m]\u001b[0m\u001b[0;34m)\u001b[0m\u001b[0;34m\u001b[0m\u001b[0;34m\u001b[0m\u001b[0m\n\u001b[0m\u001b[1;32m    104\u001b[0m       \u001b[0;32mreturn\u001b[0m \u001b[0mreply\u001b[0m\u001b[0;34m.\u001b[0m\u001b[0mget\u001b[0m\u001b[0;34m(\u001b[0m\u001b[0;34m'data'\u001b[0m\u001b[0;34m,\u001b[0m \u001b[0;32mNone\u001b[0m\u001b[0;34m)\u001b[0m\u001b[0;34m\u001b[0m\u001b[0;34m\u001b[0m\u001b[0m\n\u001b[1;32m    105\u001b[0m \u001b[0;34m\u001b[0m\u001b[0m\n",
            "\u001b[0;31mMessageError\u001b[0m: Error: credential propagation was unsuccessful"
          ]
        }
      ],
      "source": [
        "from google.colab import drive\n",
        "drive.mount('/content/drive')"
      ]
    },
    {
      "cell_type": "code",
      "source": [
        "%matplotlib inline\n",
        "import numpy as np\n",
        "import scipy as sp\n",
        "import os\n",
        "import matplotlib.pyplot as plt\n",
        "from scipy.spatial.distance import cdist\n",
        "from scipy.optimize import curve_fit\n",
        "from scipy.optimize import minimize\n",
        "import math"
      ],
      "metadata": {
        "id": "dGEB9fjxwkil"
      },
      "execution_count": null,
      "outputs": []
    },
    {
      "cell_type": "code",
      "source": [
        "num_re = [1, 2, 3, 4, 5, 6]\n",
        "num_chunk = [1, 2, 11, 33]"
      ],
      "metadata": {
        "id": "zeXIv8Ljw6ZK"
      },
      "execution_count": null,
      "outputs": []
    },
    {
      "cell_type": "code",
      "source": [
        "runs = ['50.0', '50_b', '50_c']\n",
        "times = []\n",
        "for i in range(5):\n",
        "  time = 2000000000 + i * 200000000 + 2000000\n",
        "  times.append(time)\n",
        "\n",
        "for k in num_chunk:\n",
        "  for z in num_re:\n",
        "    for f in runs:\n",
        "      x_dil_list = []\n",
        "      den_rad = 32\n",
        "      for t in times:\n",
        "        path = f'/content/drive/MyDrive/CHUNK_{k}_132/reshuffle_{z}/{f}'\n",
        "        %cd $path\n",
        "\n",
        "        path = f'results_trj.lammpstrj'\n",
        "\n",
        "        x_coords, y_coords, z_coords = [], [], []\n",
        "        start_processing = False\n",
        "        t = str(t)\n",
        "        with open(path, 'r') as file:\n",
        "          for line in file:\n",
        "            if line.startswith('ITEM: TIMESTEP'):\n",
        "              timestep_value = next(file).strip()\n",
        "\n",
        "              if timestep_value == t:\n",
        "                start_processing = True\n",
        "              else:\n",
        "                start_processing = False\n",
        "                continue\n",
        "\n",
        "            if start_processing and line.startswith('ITEM: ATOMS id type mol x y z bP'):\n",
        "              continue\n",
        "\n",
        "            if start_processing:\n",
        "              items = line.split()\n",
        "              if len(items) >= 7:\n",
        "                x_coords.append(float(items[3]))\n",
        "                y_coords.append(float(items[4]))\n",
        "                z_coords.append(float(items[5]))\n",
        "\n",
        "        x_coords, y_coords, z_coords = np.array(x_coords), np.array(y_coords), np.array(z_coords)\n",
        "        coordinates = np.column_stack((x_coords, y_coords, z_coords))\n",
        "        center = np.array([60, 60, 60])\n",
        "\n",
        "                    # Calculate distances for the current run\n",
        "        distances = np.linalg.norm(coordinates - center, axis=1)\n",
        "        distances = np.abs(distances)\n",
        "        distances = np.sqrt((x_coords - 60)**2 + (y_coords - 60)**2 + (z_coords - 60)**2)\n",
        "        print(distances)\n",
        "        den_count = np.sum(distances <= den_rad)\n",
        "        den_vol = (den_rad**3)*4/3*math.pi\n",
        "        dil_count = (209*132)-den_count\n",
        "        print(dil_count)\n",
        "        dil_vol = 120**3 - den_vol\n",
        "        dil_conc = dil_count/dil_vol\n",
        "        dil_conc = dil_conc\n",
        "\n",
        "        x_dil_list.append(dil_conc)\n",
        "\n",
        "\n",
        "      formatted_output = f'Fixed Radius: {den_rad}\\nDilute Phase concentration (fixed radius): {x_dil_list}\\nNumber of beads in fixed radius: {den_count}\\nNumber of beads outside fixed radius: {dil_count}'\n",
        "      with open(f'FIXED_RAD_KEY_DATA.txt', 'w') as file:\n",
        "          file.write(formatted_output)\n",
        "      print(formatted_output)"
      ],
      "metadata": {
        "id": "0ovO64YIwxF4"
      },
      "execution_count": null,
      "outputs": []
    },
    {
      "cell_type": "code",
      "source": [
        "num_re = [1, 2, 3, 4, 5, 6]\n",
        "num_chunk = [66]\n",
        "runs = ['50.0', '50_b', '50_c']\n",
        "times = []\n",
        "for i in range(5):\n",
        "  time = 2000000000 + i * 200000000 + 2000000\n",
        "  times.append(time)\n",
        "\n",
        "for k in num_chunk:\n",
        "  for z in num_re:\n",
        "    for f in runs:\n",
        "      x_dil_list = []\n",
        "      den_rad = 32\n",
        "      for t in times:\n",
        "        path = f'/content/drive/MyDrive/A_132/{f}'\n",
        "        %cd $path\n",
        "\n",
        "        path = f'results_trj.lammpstrj'\n",
        "\n",
        "        x_coords, y_coords, z_coords = [], [], []\n",
        "        start_processing = False\n",
        "        t = str(t)\n",
        "        with open(path, 'r') as file:\n",
        "          for line in file:\n",
        "            if line.startswith('ITEM: TIMESTEP'):\n",
        "              timestep_value = next(file).strip()\n",
        "\n",
        "              if timestep_value == t:\n",
        "                start_processing = True\n",
        "              else:\n",
        "                start_processing = False\n",
        "                continue\n",
        "\n",
        "            if start_processing and line.startswith('ITEM: ATOMS id type mol x y z bP'):\n",
        "              continue\n",
        "\n",
        "            if start_processing:\n",
        "              items = line.split()\n",
        "              if len(items) >= 7:\n",
        "                x_coords.append(float(items[3]))\n",
        "                y_coords.append(float(items[4]))\n",
        "                z_coords.append(float(items[5]))\n",
        "\n",
        "        x_coords, y_coords, z_coords = np.array(x_coords), np.array(y_coords), np.array(z_coords)\n",
        "        coordinates = np.column_stack((x_coords, y_coords, z_coords))\n",
        "        center = np.array([60, 60, 60])\n",
        "\n",
        "                    # Calculate distances for the current run\n",
        "        distances = np.linalg.norm(coordinates - center, axis=1)\n",
        "        distances = np.abs(distances)\n",
        "        distances = np.sqrt((x_coords - 60)**2 + (y_coords - 60)**2 + (z_coords - 60)**2)\n",
        "        print(distances)\n",
        "        den_count = np.sum(distances <= den_rad)\n",
        "        den_vol = (den_rad**3)*4/3*math.pi\n",
        "        dil_count = (209*132)-den_count\n",
        "        print(dil_count)\n",
        "        dil_vol = 120**3 - den_vol\n",
        "        dil_conc = dil_count/dil_vol\n",
        "        dil_conc = dil_conc\n",
        "\n",
        "        x_dil_list.append(dil_conc)\n",
        "\n",
        "\n",
        "      formatted_output = f'Fixed Radius: {den_rad}\\nDilute Phase concentration (fixed radius): {x_dil_list}\\nNumber of beads in fixed radius: {den_count}\\nNumber of beads outside fixed radius: {dil_count}'\n",
        "      with open(f'FIXED_RAD_KEY_DATA.txt', 'w') as file:\n",
        "          file.write(formatted_output)\n",
        "      print(formatted_output)"
      ],
      "metadata": {
        "id": "Y2BChMRF1inW"
      },
      "execution_count": null,
      "outputs": []
    }
  ]
}